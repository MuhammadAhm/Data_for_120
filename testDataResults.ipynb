{
 "cells": [
  {
   "cell_type": "code",
   "execution_count": 1,
   "metadata": {},
   "outputs": [],
   "source": [
    "import pandas as pd\n",
    "from pandas import read_excel\n",
    "from pandas.plotting import scatter_matrix\n",
    "from plotly.subplots import make_subplots\n",
    "import matplotlib.pyplot as plt\n",
    "import numpy as np\n",
    "from scipy.stats import pearsonr\n",
    "from sklearn import linear_model\n",
    "Test = 'Test_Data.xlsx'\n",
    "Training = 'Training_Data.xlsx'\n",
    "\n",
    "#Test Data uses 20% of 9568 = 1913 (First 1913 data used)\n",
    "#Coose data set below\n",
    "file_name = Test \n",
    "df = pd.read_excel(file_name)"
   ]
  },
  {
   "cell_type": "code",
   "execution_count": 2,
   "metadata": {},
   "outputs": [
    {
     "output_type": "stream",
     "name": "stdout",
     "text": "AT      19.802343\nV       54.492171\nAP    1013.158222\nRH      73.150910\nPE     453.921412\ndtype: float64\n"
    }
   ],
   "source": [
    "#Mean of data\n",
    "data_mean = df.mean()\n",
    "print(data_mean)"
   ]
  },
  {
   "cell_type": "code",
   "execution_count": 3,
   "metadata": {},
   "outputs": [
    {
     "output_type": "stream",
     "name": "stdout",
     "text": "AT      20.435\nV       52.300\nAP    1012.870\nRH      75.010\nPE     451.250\ndtype: float64\n"
    }
   ],
   "source": [
    "#Median of Data\n",
    "data_median = df.median()\n",
    "print(data_median)"
   ]
  },
  {
   "cell_type": "code",
   "execution_count": 4,
   "metadata": {},
   "outputs": [
    {
     "output_type": "stream",
     "name": "stdout",
     "text": "AT      V       AP      RH      PE\n0  11.44  45.01  1010.48   67.32  435.21\n1  19.65    NaN  1013.24   69.14  472.90\n2    NaN    NaN  1013.88   74.64     NaN\n3    NaN    NaN      NaN   75.85     NaN\n4    NaN    NaN      NaN   78.60     NaN\n5    NaN    NaN      NaN   80.79     NaN\n6    NaN    NaN      NaN   86.05     NaN\n7    NaN    NaN      NaN   87.68     NaN\n8    NaN    NaN      NaN   91.14     NaN\n9    NaN    NaN      NaN  100.09     NaN\n"
    }
   ],
   "source": [
    "#Mode of Data\n",
    "data_mode = df.mode()\n",
    "print(data_mode)"
   ]
  },
  {
   "cell_type": "code",
   "execution_count": 5,
   "metadata": {},
   "outputs": [
    {
     "output_type": "stream",
     "name": "stdout",
     "text": "AT      1.81\nV      25.36\nAP    996.35\nRH     25.89\nPE    425.21\ndtype: float64\n"
    }
   ],
   "source": [
    "#Minimum of Data\n",
    "data_min = df.min()\n",
    "print(data_min)"
   ]
  },
  {
   "cell_type": "code",
   "execution_count": 6,
   "metadata": {},
   "outputs": [
    {
     "output_type": "stream",
     "name": "stdout",
     "text": "AT      35.56\nV       80.18\nAP    1033.30\nRH     100.15\nPE     494.87\ndtype: float64\n"
    }
   ],
   "source": [
    "#Maximum of Data\n",
    "data_max = df.max()\n",
    "print(data_max)"
   ]
  },
  {
   "cell_type": "code",
   "execution_count": 7,
   "metadata": {},
   "outputs": [
    {
     "output_type": "stream",
     "name": "stdout",
     "text": "AT     54.606445\nV     160.519334\nAP     33.884203\nRH    223.488724\nPE    282.583065\ndtype: float64\n"
    }
   ],
   "source": [
    "#Varaince of Data\n",
    "data_var = df.var()\n",
    "print(data_var)"
   ]
  },
  {
   "cell_type": "code",
   "execution_count": 8,
   "metadata": {},
   "outputs": [
    {
     "output_type": "stream",
     "name": "stdout",
     "text": "AT     7.389617\nV     12.669622\nAP     5.821014\nRH    14.949539\nPE    16.810207\ndtype: float64\n"
    }
   ],
   "source": [
    "#Standard Diviation of Data\n",
    "data_std = df.std()\n",
    "print(data_std)"
   ]
  },
  {
   "cell_type": "code",
   "execution_count": 9,
   "metadata": {},
   "outputs": [
    {
     "output_type": "stream",
     "name": "stdout",
     "text": "AT            V           AP           RH           PE\ncount  1912.000000  1912.000000  1912.000000  1912.000000  1912.000000\nmean     19.802343    54.492171  1013.158222    73.150910   453.921412\nstd       7.389617    12.669622     5.821014    14.949539    16.810207\nmin       1.810000    25.360000   996.350000    25.890000   425.210000\n25%      13.735000    41.790000  1009.010000    62.897500   439.422500\n50%      20.435000    52.300000  1012.870000    75.010000   451.250000\n75%      25.765000    66.540000  1016.922500    85.042500   467.510000\nmax      35.560000    80.180000  1033.300000   100.150000   494.870000\n"
    }
   ],
   "source": [
    "#Basically Everything above in one code\n",
    "data_des = df.describe()\n",
    "print(data_des)"
   ]
  },
  {
   "cell_type": "code",
   "execution_count": null,
   "metadata": {},
   "outputs": [],
   "source": []
  }
 ],
 "metadata": {
  "language_info": {
   "codemirror_mode": {
    "name": "ipython",
    "version": 3
   },
   "file_extension": ".py",
   "mimetype": "text/x-python",
   "name": "python",
   "nbconvert_exporter": "python",
   "pygments_lexer": "ipython3",
   "version": "3.8.2-final"
  },
  "orig_nbformat": 2,
  "kernelspec": {
   "name": "python38232bite094c66cb5a9443fb4934627d638afd5",
   "display_name": "Python 3.8.2 32-bit"
  }
 },
 "nbformat": 4,
 "nbformat_minor": 2
}